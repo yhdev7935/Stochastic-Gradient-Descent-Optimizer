{
 "cells": [
  {
   "cell_type": "markdown",
   "metadata": {},
   "source": [
    "# Stochastic Gradient Descent Optimization\n",
    "\n",
    "### 학번: 20191602 배용하, 수치해석 3분반 김상철 교수님\n",
    "\n",
    "---\n",
    "\n",
    "## 목차\n",
    "\n",
    "1. SGD의 개요 및 동작 원리<br>\n",
    "    1.1. Gradient Descent와 SGD의 정의<br>\n",
    "    1.2. Gradient Descent와 SGD의 장단점<br>\n",
    "2. SGD의 동작 코드 및 단위 테스트<br>\n",
    "    2.1. Keras를 이용한 SGD 구현 방법 및 코드<br>\n",
    "    2.2. Keras를 이용한 SGD 단위 테스트<br>\n",
    "    2.3. Keras를 이용한 SGD 시각화<br>\n",
    "3. SGD의 구체화<br>\n",
    "    3.1. Numpy를 이용한 SGD 구체화<br>\n",
    "4. 구체화한 모듈의 단위 테스트<br>\n",
    "    4.1. Numpy를 이용한 SGD 단위 테스트<br>\n",
    "5. Rosenbrock Function을 통한 SGD 성능 검증<br>\n",
    "\n",
    "---"
   ]
  },
  {
   "cell_type": "markdown",
   "metadata": {},
   "source": [
    "## 1. SGD의 개요 및 동작 원리\n",
    "\n",
    "**Stochastic Gradient Descent(SGD)** 를 이야기하기 전에, Gradient Descent에 대해서 먼저 이야기합니다."
   ]
  },
  {
   "cell_type": "markdown",
   "metadata": {},
   "source": [
    "### 1.1. Gradient Descent와 SGD의 정의\n",
    "\n",
    "기존의 Gradient Descent에서의 값 변화는 아래 식과 같습니다.\n",
    "\n",
    "$$\n",
    "\\theta = \\theta - \\eta \\nabla_\\theta J(\\theta)\n",
    "$$\n",
    "\n",
    "$\\eta$는 learning rate이면서 step size이다.\n",
    "\n",
    "여기서, 오차함수 $J(\\theta)$를 계산할 때, 모든 Training Set를 사용한다면, **Batch Gradient Descent**입니다.\n",
    "\n",
    "하지만, 모든 Training Set이 아니라 일부의 Training Set를 사용한다면, **Mini-Batch Gradient Descent**라고 할 수 있습니다.\n",
    "\n",
    "Training Set에서 한 개의 데이터만을 추출한다면, **Stochastic Gradient Descent**라고 할 수 있습니다.\n",
    "\n",
    "엄격하게 따지자면, SGD와 Mini-Batch Gradient Descent는 다른 알고리즘입니다. (참조: https://towardsdatascience.com/batch-mini-batch-stochastic-gradient-descent-7a62ecba642a)\n",
    "\n",
    "여기서는 SGD에 대해서 다루고 있으므로, Mini-Batch Gradient Descent의 설명은 생략합니다."
   ]
  },
  {
   "cell_type": "markdown",
   "metadata": {},
   "source": [
    "### 1.2. Gradient Descent와 SGD의 장단점\n",
    "\n",
    "Gradient Descent는 Training Set를 전부 사용하므로, 속도는 느려질 수 있지만, 안정적으로 Optimal로 수렴한다.\n",
    "\n",
    "SGD는 Training Set의 일부만 사용하므로, Optimal에 불안정하게 수렴할 수 있다.<br>하지만, Gradient Descent처럼 1 step에 모든 Training Set를 다 탐색하고 업데이트하는 것이 아니라, 1개의 Training Data만 가지고 업데이트하기 때문에, 1 step를 진행하는 속도는 Gradient Descent에 비해 SGD가 빠르다.\n",
    "\n",
    "Gradient Descent는 안정적인 만큼, Local Optima(국소 최적해)에 빠지기 쉽지만, SGD는 변동성이 크기 때문에 Local Optima에 어느정도 빠지지 않는다.<br> \n",
    "하지만, Local Optima에 빠지지 않는 만큼 Global Optima(전역 최적해)를 탐색하는 것에 대해서 실패할 수도 있으니 주의해서 learning rate를 설정해야 합니다.<br>\n",
    "즉, SGD는 변동성이 강하므로 Global Optima에 도달하는 것 역시 Local Optima처럼 쉽게 도달하지 못하기 때문에 Original SGD 대신 변형 알고리즘을 사용합니다.<br>\n",
    "\n",
    "![](https://img1.daumcdn.net/thumb/R1280x0/?scode=mtistory2&fname=http%3A%2F%2Fcfile3.uf.tistory.com%2Fimage%2F996A6C395D0E18BB21AF72)\n",
    "\n",
    "결국은 SGD(Naive Stochastic Gradient Descent)는 Global Optimal에 도달하는 속도는 느리고, 성능이 낮을 수 밖에 없다.\n",
    "\n",
    "그러한 단점을 보안한 SGD의 변형 알고리즘으로 Momentum, RMSProp, Adam 등이 있습니다.<br>\n",
    "[https://emiliendupont.github.io/optimization-rosenbrock/](https://emiliendupont.github.io/optimization-rosenbrock/) 를 통해 SGD, Momentum, RMSProp, Adam의 시각화 과정을 볼 수 있습니다."
   ]
  },
  {
   "cell_type": "markdown",
   "metadata": {},
   "source": [
    "## 2. SGD의 동작 코드 및 단위 테스트"
   ]
  },
  {
   "cell_type": "markdown",
   "metadata": {},
   "source": [
    "### 2.1. Keras를 이용한 SGD 구현 방법 및 코드\n",
    "\n",
    "아래 코드에서는 Keras, Numpy, scikit-learn을 이용한 SGD 구현 코드를 나타내고 있습니다.\n",
    "\n",
    "\n",
    "**아래 코드에서, ModuleError가 발생할 경우 해결하는 방법**\n",
    "\n",
    "```python\n",
    "pip install numpy==1.18\n",
    "pip install scipy==1.1.0\n",
    "pip install scikit-learn==0.21.3\n",
    "```"
   ]
  },
  {
   "cell_type": "code",
   "execution_count": 72,
   "metadata": {},
   "outputs": [],
   "source": [
    "from sklearn.datasets import make_regression\n",
    "import numpy as np\n",
    "import tensorflow as tf\n",
    "\n",
    "class KerasSGD:\n",
    "    \n",
    "    def __init__(self, n_samples, learning_rate = 0.001):\n",
    "        self.learning_rate = learning_rate\n",
    "        self.n_samples = n_samples\n",
    "        self.X, self.Y = self.DataGeneration()\n",
    "        self.Y = np.expand_dims(self.Y, axis = 1)\n",
    "        self.model = self.modelGeneration()\n",
    "        \n",
    "    def DataGeneration(self):\n",
    "        return make_regression(n_samples = self.n_samples,\n",
    "                                n_features = 1,\n",
    "                                bias = 10.0,\n",
    "                                noise = 10.0, random_state = 2)\n",
    "    \n",
    "    def modelGeneration(self):\n",
    "        \n",
    "        # variables definition\n",
    "        model = tf.keras.Sequential()\n",
    "        linear = tf.keras.layers.Dense(1, activation = 'linear')\n",
    "        optimizer = tf.keras.optimizers.SGD(lr = self.learning_rate)\n",
    "        \n",
    "        model.add(linear)\n",
    "        model.compile(loss = 'mse',\n",
    "                     optimizer = optimizer,\n",
    "                     metrices = ['mse'])\n",
    "        \n",
    "        return model\n",
    "    \n",
    "    def Fitting(self, maxsteps):\n",
    "        self.X_test = self.X[:int(self.n_samples / 4 + 1)]\n",
    "        self.Y_test = self.Y[:int(self.n_samples / 4 + 1)]\n",
    "        self.X_train = self.X[int(self.n_samples / 4 + 1):]\n",
    "        self.Y_train = self.Y[int(self.n_samples / 4 + 1):]\n",
    "        return self.model.fit(self.X_train, self.Y_train, batch_size = 10,\n",
    "                      epochs = maxsteps, shuffle = True, validation_data = (self.X_test, self.Y_test))\n",
    "        \n",
    "    def evaluateTestData(self):\n",
    "        return self.model.evaluate(self.X_test, self.Y_test)"
   ]
  },
  {
   "cell_type": "markdown",
   "metadata": {},
   "source": [
    "### KerasSGD Class\n",
    "\n",
    "KerasSGD 클래스는 선형 회귀(Linear Regression)을 `tf.keras.optimizers.SGD` 로 구현하는 과정을 보여주고 있습니다.\n",
    "\n",
    "n_samples는 Sampling Data의 크기를 의미합니다.\n",
    "\n",
    "DataGeneration는 n_samples만큼의 X, Y의 데이터를 랜덤하게 생성합니다. 여기서, make_regression()은 선형회귀 데이터를 생성합니다.<br>\n",
    "그리고, `self.Y = np.expand_dims(self.Y, axis = 1)` 의 의미는 무엇일까요?\n",
    "\n",
    "X의 shape와 Y의 shape를 맞춰주기 위해서 Dimension를 늘리는 것입니다. `[100] -> [100, 1]`\n",
    "\n",
    "modelGeneration는 keras linear model를 만들고, SGD optimizer를 정의합니다.<br>\n",
    "lr은 learning rate를 의미합니다. 즉, $\\eta$가 lr입니다. 그렇게 모델을 설계완료합니다.\n",
    "\n",
    "Fitting은 X와 Y를 훈련 데이터와 테스트 데이터로 나뉘어 피팅하는 과정입니다. 훈련 데이터는 75%, 테스트 데이터는 25%로 나뉘어 피팅합니다. epochs는 Max Step를 의미하고, `shuffle = True`은 데이터를 섞는 것을 의미합니다.\n",
    "\n",
    "또한, evaluateTestData는 학습한 model를 가지고, 아까 분할했던 테스트 데이터를 실험해보는 함수입니다."
   ]
  },
  {
   "cell_type": "markdown",
   "metadata": {},
   "source": [
    "### 2.2. Keras를 이용한 SGD 단위 테스트\n",
    "\n",
    "kerasSGD Initialize"
   ]
  },
  {
   "cell_type": "code",
   "execution_count": 94,
   "metadata": {},
   "outputs": [],
   "source": [
    "ksgd = KerasSGD(100)"
   ]
  },
  {
   "cell_type": "markdown",
   "metadata": {},
   "source": [
    "ksgd의 X와 Y의 모양 출력"
   ]
  },
  {
   "cell_type": "code",
   "execution_count": 95,
   "metadata": {},
   "outputs": [
    {
     "name": "stdout",
     "output_type": "stream",
     "text": [
      "(100, 1) (100, 1)\n"
     ]
    }
   ],
   "source": [
    "print(ksgd.X.shape, ksgd.Y.shape)"
   ]
  },
  {
   "cell_type": "code",
   "execution_count": 96,
   "metadata": {},
   "outputs": [
    {
     "name": "stdout",
     "output_type": "stream",
     "text": [
      "===================Fitting===================\n",
      "Train on 74 samples, validate on 26 samples\n",
      "Epoch 1/100\n",
      "74/74 [==============================] - 0s 3ms/sample - loss: 4071.9967 - val_loss: 3408.7874\n",
      "Epoch 2/100\n",
      "74/74 [==============================] - 0s 336us/sample - loss: 3938.1549 - val_loss: 3292.7692\n",
      "Epoch 3/100\n",
      "74/74 [==============================] - 0s 283us/sample - loss: 3804.9760 - val_loss: 3180.8870\n",
      "Epoch 4/100\n",
      "74/74 [==============================] - 0s 391us/sample - loss: 3672.8578 - val_loss: 3058.9840\n",
      "Epoch 5/100\n",
      "74/74 [==============================] - 0s 337us/sample - loss: 3535.9230 - val_loss: 2950.9554\n",
      "Epoch 6/100\n",
      "74/74 [==============================] - 0s 337us/sample - loss: 3412.2826 - val_loss: 2853.5216\n",
      "Epoch 7/100\n",
      "74/74 [==============================] - 0s 310us/sample - loss: 3300.9928 - val_loss: 2752.3291\n",
      "Epoch 8/100\n",
      "74/74 [==============================] - 0s 310us/sample - loss: 3185.2178 - val_loss: 2660.3755\n",
      "Epoch 9/100\n",
      "74/74 [==============================] - 0s 323us/sample - loss: 3081.3880 - val_loss: 2572.8854\n",
      "Epoch 10/100\n",
      "74/74 [==============================] - 0s 310us/sample - loss: 2979.4035 - val_loss: 2490.6857\n",
      "Epoch 11/100\n",
      "74/74 [==============================] - 0s 350us/sample - loss: 2884.3122 - val_loss: 2404.5123\n",
      "Epoch 12/100\n",
      "74/74 [==============================] - 0s 297us/sample - loss: 2785.1794 - val_loss: 2325.0436\n",
      "Epoch 13/100\n",
      "74/74 [==============================] - 0s 323us/sample - loss: 2693.7132 - val_loss: 2251.8367\n",
      "Epoch 14/100\n",
      "74/74 [==============================] - 0s 310us/sample - loss: 2609.3506 - val_loss: 2176.3361\n",
      "Epoch 15/100\n",
      "74/74 [==============================] - 0s 292us/sample - loss: 2522.8794 - val_loss: 2107.1185\n",
      "Epoch 16/100\n",
      "74/74 [==============================] - 0s 283us/sample - loss: 2442.4360 - val_loss: 2038.0226\n",
      "Epoch 17/100\n",
      "74/74 [==============================] - 0s 229us/sample - loss: 2362.6006 - val_loss: 1973.8969\n",
      "Epoch 18/100\n",
      "74/74 [==============================] - 0s 336us/sample - loss: 2288.9613 - val_loss: 1904.7784\n",
      "Epoch 19/100\n",
      "74/74 [==============================] - 0s 310us/sample - loss: 2209.1394 - val_loss: 1842.1961\n",
      "Epoch 20/100\n",
      "74/74 [==============================] - 0s 445us/sample - loss: 2137.4624 - val_loss: 1783.0361\n",
      "Epoch 21/100\n",
      "74/74 [==============================] - 0s 310us/sample - loss: 2070.2935 - val_loss: 1724.4491\n",
      "Epoch 22/100\n",
      "74/74 [==============================] - 0s 418us/sample - loss: 2001.9152 - val_loss: 1663.5150\n",
      "Epoch 23/100\n",
      "74/74 [==============================] - 0s 283us/sample - loss: 1933.4059 - val_loss: 1610.7951\n",
      "Epoch 24/100\n",
      "74/74 [==============================] - 0s 418us/sample - loss: 1873.0937 - val_loss: 1553.6201\n",
      "Epoch 25/100\n",
      "74/74 [==============================] - 0s 323us/sample - loss: 1808.1160 - val_loss: 1504.4794\n",
      "Epoch 26/100\n",
      "74/74 [==============================] - 0s 364us/sample - loss: 1751.4269 - val_loss: 1453.1770\n",
      "Epoch 27/100\n",
      "74/74 [==============================] - 0s 351us/sample - loss: 1692.1223 - val_loss: 1407.6467\n",
      "Epoch 28/100\n",
      "74/74 [==============================] - 0s 337us/sample - loss: 1640.2769 - val_loss: 1362.9353\n",
      "Epoch 29/100\n",
      "74/74 [==============================] - 0s 350us/sample - loss: 1588.2437 - val_loss: 1317.3389\n",
      "Epoch 30/100\n",
      "74/74 [==============================] - 0s 377us/sample - loss: 1536.4762 - val_loss: 1269.7745\n",
      "Epoch 31/100\n",
      "74/74 [==============================] - 0s 364us/sample - loss: 1481.9997 - val_loss: 1229.3166\n",
      "Epoch 32/100\n",
      "74/74 [==============================] - 0s 431us/sample - loss: 1436.1884 - val_loss: 1188.2051\n",
      "Epoch 33/100\n",
      "74/74 [==============================] - 0s 270us/sample - loss: 1388.2249 - val_loss: 1152.3352\n",
      "Epoch 34/100\n",
      "74/74 [==============================] - 0s 458us/sample - loss: 1347.0936 - val_loss: 1117.1073\n",
      "Epoch 35/100\n",
      "74/74 [==============================] - 0s 297us/sample - loss: 1306.5658 - val_loss: 1080.6034\n",
      "Epoch 36/100\n",
      "74/74 [==============================] - 0s 512us/sample - loss: 1264.3865 - val_loss: 1042.4036\n",
      "Epoch 37/100\n",
      "74/74 [==============================] - 0s 323us/sample - loss: 1220.5964 - val_loss: 1009.2029\n",
      "Epoch 38/100\n",
      "74/74 [==============================] - 0s 499us/sample - loss: 1182.4918 - val_loss: 976.9802\n",
      "Epoch 39/100\n",
      "74/74 [==============================] - 0s 364us/sample - loss: 1145.8115 - val_loss: 947.6006\n",
      "Epoch 40/100\n",
      "74/74 [==============================] - 0s 445us/sample - loss: 1111.4906 - val_loss: 916.7462\n",
      "Epoch 41/100\n",
      "74/74 [==============================] - 0s 337us/sample - loss: 1075.5438 - val_loss: 888.6560\n",
      "Epoch 42/100\n",
      "74/74 [==============================] - 0s 310us/sample - loss: 1043.8076 - val_loss: 861.4692\n",
      "Epoch 43/100\n",
      "74/74 [==============================] - 0s 337us/sample - loss: 1012.1153 - val_loss: 834.7015\n",
      "Epoch 44/100\n",
      "74/74 [==============================] - 0s 270us/sample - loss: 981.1977 - val_loss: 809.7301\n",
      "Epoch 45/100\n",
      "74/74 [==============================] - 0s 256us/sample - loss: 952.6982 - val_loss: 784.9738\n",
      "Epoch 46/100\n",
      "74/74 [==============================] - 0s 216us/sample - loss: 924.2130 - val_loss: 760.1361\n",
      "Epoch 47/100\n",
      "74/74 [==============================] - 0s 377us/sample - loss: 895.9213 - val_loss: 738.2445\n",
      "Epoch 48/100\n",
      "74/74 [==============================] - 0s 310us/sample - loss: 871.0352 - val_loss: 716.9569\n",
      "Epoch 49/100\n",
      "74/74 [==============================] - 0s 458us/sample - loss: 846.3764 - val_loss: 695.8575\n",
      "Epoch 50/100\n",
      "74/74 [==============================] - 0s 364us/sample - loss: 822.6038 - val_loss: 674.3466\n",
      "Epoch 51/100\n",
      "74/74 [==============================] - 0s 418us/sample - loss: 797.6397 - val_loss: 654.6083\n",
      "Epoch 52/100\n",
      "74/74 [==============================] - 0s 243us/sample - loss: 774.9137 - val_loss: 634.5090\n",
      "Epoch 53/100\n",
      "74/74 [==============================] - 0s 364us/sample - loss: 752.0222 - val_loss: 615.8660\n",
      "Epoch 54/100\n",
      "74/74 [==============================] - 0s 229us/sample - loss: 730.8922 - val_loss: 596.9225\n",
      "Epoch 55/100\n",
      "74/74 [==============================] - 0s 323us/sample - loss: 708.2655 - val_loss: 579.0525\n",
      "Epoch 56/100\n",
      "74/74 [==============================] - 0s 256us/sample - loss: 687.7067 - val_loss: 562.3810\n",
      "Epoch 57/100\n",
      "74/74 [==============================] - 0s 310us/sample - loss: 668.8831 - val_loss: 546.5217\n",
      "Epoch 58/100\n",
      "74/74 [==============================] - 0s 270us/sample - loss: 650.1614 - val_loss: 528.9737\n",
      "Epoch 59/100\n",
      "74/74 [==============================] - 0s 431us/sample - loss: 629.9187 - val_loss: 514.0419\n",
      "Epoch 60/100\n",
      "74/74 [==============================] - 0s 283us/sample - loss: 612.4218 - val_loss: 498.0370\n",
      "Epoch 61/100\n",
      "74/74 [==============================] - 0s 364us/sample - loss: 594.0994 - val_loss: 482.6998\n",
      "Epoch 62/100\n",
      "74/74 [==============================] - 0s 243us/sample - loss: 576.5633 - val_loss: 468.8351\n",
      "Epoch 63/100\n",
      "74/74 [==============================] - 0s 310us/sample - loss: 560.4282 - val_loss: 453.9289\n",
      "Epoch 64/100\n",
      "74/74 [==============================] - 0s 283us/sample - loss: 543.4809 - val_loss: 441.7898\n",
      "Epoch 65/100\n",
      "74/74 [==============================] - 0s 283us/sample - loss: 529.3887 - val_loss: 429.6076\n",
      "Epoch 66/100\n",
      "74/74 [==============================] - 0s 257us/sample - loss: 515.1744 - val_loss: 417.1306\n",
      "Epoch 67/100\n",
      "74/74 [==============================] - 0s 296us/sample - loss: 500.6802 - val_loss: 405.5990\n",
      "Epoch 68/100\n",
      "74/74 [==============================] - 0s 283us/sample - loss: 487.4474 - val_loss: 394.6937\n",
      "Epoch 69/100\n",
      "74/74 [==============================] - 0s 269us/sample - loss: 474.6114 - val_loss: 383.7329\n",
      "Epoch 70/100\n",
      "74/74 [==============================] - 0s 310us/sample - loss: 461.4453 - val_loss: 373.5948\n",
      "Epoch 71/100\n",
      "74/74 [==============================] - 0s 283us/sample - loss: 449.5364 - val_loss: 364.0987\n",
      "Epoch 72/100\n",
      "74/74 [==============================] - 0s 269us/sample - loss: 438.4462 - val_loss: 354.6640\n",
      "Epoch 73/100\n",
      "74/74 [==============================] - 0s 310us/sample - loss: 427.4227 - val_loss: 344.4698\n",
      "Epoch 74/100\n",
      "74/74 [==============================] - 0s 310us/sample - loss: 415.4269 - val_loss: 335.8419\n",
      "Epoch 75/100\n",
      "74/74 [==============================] - 0s 337us/sample - loss: 405.3829 - val_loss: 327.4572\n",
      "Epoch 76/100\n",
      "74/74 [==============================] - 0s 310us/sample - loss: 395.2542 - val_loss: 319.0251\n",
      "Epoch 77/100\n",
      "74/74 [==============================] - 0s 256us/sample - loss: 385.4527 - val_loss: 310.3940\n",
      "Epoch 78/100\n",
      "74/74 [==============================] - 0s 323us/sample - loss: 375.3242 - val_loss: 301.7794\n",
      "Epoch 79/100\n",
      "74/74 [==============================] - 0s 304us/sample - loss: 365.2181 - val_loss: 293.9113\n",
      "Epoch 80/100\n",
      "74/74 [==============================] - 0s 256us/sample - loss: 355.7429 - val_loss: 286.3615\n",
      "Epoch 81/100\n",
      "74/74 [==============================] - 0s 323us/sample - loss: 346.8676 - val_loss: 279.2854\n",
      "Epoch 82/100\n",
      "74/74 [==============================] - 0s 418us/sample - loss: 338.4110 - val_loss: 272.5591\n",
      "Epoch 83/100\n",
      "74/74 [==============================] - 0s 330us/sample - loss: 330.5431 - val_loss: 266.0343\n",
      "Epoch 84/100\n",
      "74/74 [==============================] - 0s 270us/sample - loss: 322.5934 - val_loss: 258.9752\n",
      "Epoch 85/100\n",
      "74/74 [==============================] - 0s 323us/sample - loss: 314.1884 - val_loss: 252.8593\n",
      "Epoch 86/100\n",
      "74/74 [==============================] - 0s 256us/sample - loss: 307.0312 - val_loss: 247.3170\n",
      "Epoch 87/100\n",
      "74/74 [==============================] - 0s 283us/sample - loss: 300.4314 - val_loss: 241.8383\n",
      "Epoch 88/100\n",
      "74/74 [==============================] - 0s 297us/sample - loss: 293.7336 - val_loss: 235.9183\n",
      "Epoch 89/100\n",
      "74/74 [==============================] - 0s 297us/sample - loss: 286.7642 - val_loss: 230.3753\n",
      "Epoch 90/100\n",
      "74/74 [==============================] - 0s 270us/sample - loss: 279.9219 - val_loss: 225.2871\n",
      "Epoch 91/100\n",
      "74/74 [==============================] - 0s 350us/sample - loss: 273.6872 - val_loss: 220.0008\n",
      "Epoch 92/100\n",
      "74/74 [==============================] - 0s 243us/sample - loss: 267.3240 - val_loss: 214.9457\n",
      "Epoch 93/100\n",
      "74/74 [==============================] - 0s 323us/sample - loss: 261.2577 - val_loss: 210.1666\n",
      "Epoch 94/100\n",
      "74/74 [==============================] - 0s 283us/sample - loss: 255.4180 - val_loss: 205.3034\n",
      "Epoch 95/100\n",
      "74/74 [==============================] - 0s 256us/sample - loss: 249.4822 - val_loss: 201.2181\n",
      "Epoch 96/100\n",
      "74/74 [==============================] - 0s 297us/sample - loss: 244.3615 - val_loss: 196.5678\n",
      "Epoch 97/100\n",
      "74/74 [==============================] - 0s 323us/sample - loss: 238.7927 - val_loss: 192.7006\n",
      "Epoch 98/100\n",
      "74/74 [==============================] - 0s 283us/sample - loss: 233.9872 - val_loss: 188.8532\n",
      "Epoch 99/100\n",
      "74/74 [==============================] - 0s 296us/sample - loss: 229.2936 - val_loss: 185.4021\n",
      "Epoch 100/100\n",
      "74/74 [==============================] - 0s 310us/sample - loss: 224.9133 - val_loss: 181.7528\n"
     ]
    }
   ],
   "source": [
    "# SGD Fitting: maxsteps = 100\n",
    "print(\"===================Fitting===================\")\n",
    "hist = ksgd.Fitting(maxsteps = 100)"
   ]
  },
  {
   "cell_type": "markdown",
   "metadata": {},
   "source": [
    "### 결과 분석\n",
    "\n",
    "Train on 74 Samples: 말그대로, 100개의 데이터 중 훈련 데이터의 개수를 의미합니다.<br>\n",
    "Epoch는 Step과 동일한 개념으로 이해하면 됩니다.<br>\n",
    "Loss가 Epoch가 증가함에 따라, 점점 줄어드는 것을 보아 SGD가 잘 적용되었음을 알 수 있습니다.<br>\n",
    "\n",
    "Validate on 26 Samples: 100개의 데이터 중 테스트 데이터를 의미합니다.<br>\n",
    "val_loss는 test case를 적용한 loss data입니다. 즉, 검증 손실값입니다.<br>"
   ]
  },
  {
   "cell_type": "markdown",
   "metadata": {},
   "source": [
    "`hist = ksgd.Fitting(maxsteps = 100)` 여기서, hist에 반환값을 집어넣습니다.<br>\n",
    "hist는 History 객체입니다. 즉, Fitting한 결괏값을 History 객체에 저장합니다.<br>\n",
    "`hist.history` 는 dictionary입니다."
   ]
  },
  {
   "cell_type": "code",
   "execution_count": 97,
   "metadata": {},
   "outputs": [
    {
     "data": {
      "text/plain": [
       "<tensorflow.python.keras.callbacks.History at 0x1c2a1e33828>"
      ]
     },
     "execution_count": 97,
     "metadata": {},
     "output_type": "execute_result"
    }
   ],
   "source": [
    "hist"
   ]
  },
  {
   "cell_type": "code",
   "execution_count": 98,
   "metadata": {},
   "outputs": [
    {
     "data": {
      "text/plain": [
       "array([[4071.9967074 , 3938.15490393, 3804.97602143, 3672.85782438,\n",
       "        3535.92303962, 3412.28258618, 3300.99278136, 3185.21777344,\n",
       "        3081.38795595, 2979.40354466, 2884.31224266, 2785.17941367,\n",
       "        2693.71322054, 2609.35060243, 2522.87935824, 2442.43598402,\n",
       "        2362.60063213, 2288.96134   , 2209.13942739, 2137.46243534,\n",
       "        2070.29350322, 2001.91517103, 1933.40588379, 1873.09368896,\n",
       "        1808.11602123, 1751.42694587, 1692.12226826, 1640.27688516,\n",
       "        1588.24368699, 1536.47620454, 1481.99969812, 1436.1884246 ,\n",
       "        1388.22490135, 1347.09360648, 1306.56576291, 1264.3864944 ,\n",
       "        1220.5964405 , 1182.49183779, 1145.81145003, 1111.4905511 ,\n",
       "        1075.54376386, 1043.80764193, 1012.1152517 ,  981.19766483,\n",
       "         952.69823394,  924.21304156,  895.92130094,  871.03518842,\n",
       "         846.37635267,  822.60378368,  797.63965998,  774.91371114,\n",
       "         752.02215081,  730.89221026,  708.26546664,  687.70670298,\n",
       "         668.88307479,  650.16137448,  629.91874819,  612.42179747,\n",
       "         594.09936358,  576.56327284,  560.42821441,  543.48091249,\n",
       "         529.38872549,  515.17435064,  500.68023187,  487.44741326,\n",
       "         474.61137266,  461.44525229,  449.5364017 ,  438.44616122,\n",
       "         427.42269176,  415.42685473,  405.38288962,  395.25416524,\n",
       "         385.45269322,  375.32417669,  365.21814913,  355.74292137,\n",
       "         346.86760361,  338.41095631,  330.54305164,  322.59339472,\n",
       "         314.18837223,  307.03118979,  300.43138061,  293.73357288,\n",
       "         286.76417583,  279.92193933,  273.68719297,  267.32395564,\n",
       "         261.25768094,  255.41804917,  249.48216804,  244.36151247,\n",
       "         238.79271389,  233.98718097,  229.29357168,  224.91331771],\n",
       "       [3408.78742864, 3292.76924955, 3180.88696289, 3058.98396184,\n",
       "        2950.95543495, 2853.5215595 , 2752.32912034, 2660.37553523,\n",
       "        2572.88537598, 2490.68565017, 2404.51226337, 2325.04364483,\n",
       "        2251.83665114, 2176.33614408, 2107.11849271, 2038.02264874,\n",
       "        1973.89690693, 1904.77837665, 1842.19607309, 1783.03606708,\n",
       "        1724.44905912, 1663.51495831, 1610.79505334, 1553.62007024,\n",
       "        1504.47939359, 1453.17698787, 1407.64670974, 1362.9353356 ,\n",
       "        1317.33892353, 1269.77446571, 1229.31659875, 1188.20512977,\n",
       "        1152.33524733, 1117.10733736, 1080.60338886, 1042.40363488,\n",
       "        1009.20289964,  976.98021991,  947.6006235 ,  916.74617826,\n",
       "         888.65595187,  861.4691749 ,  834.7015287 ,  809.73008141,\n",
       "         784.97379714,  760.13612483,  738.24445284,  716.95694439,\n",
       "         695.85751812,  674.34661396,  654.60831158,  634.50903555,\n",
       "         615.86599966,  596.92249474,  579.0524515 ,  562.38104248,\n",
       "         546.52170387,  528.97373493,  514.0418842 ,  498.03699787,\n",
       "         482.69980093,  468.83509357,  453.92890226,  441.78977732,\n",
       "         429.60761202,  417.13056359,  405.59902132,  394.69370094,\n",
       "         383.73287846,  373.59481753,  364.09868681,  354.66395217,\n",
       "         344.46975004,  335.84192305,  327.45721905,  319.02509777,\n",
       "         310.39396844,  301.77937669,  293.91131181,  286.361459  ,\n",
       "         279.28540274,  272.55914013,  266.03429472,  258.97522618,\n",
       "         252.85933451,  247.31697376,  241.83827151,  235.91826923,\n",
       "         230.37526791,  225.28708326,  220.00082632,  214.94568693,\n",
       "         210.16660837,  205.30340782,  201.2180883 ,  196.56779979,\n",
       "         192.70064603,  188.85317377,  185.4020688 ,  181.75277328]])"
      ]
     },
     "execution_count": 98,
     "metadata": {},
     "output_type": "execute_result"
    }
   ],
   "source": [
    "# loss History & val_loss History\n",
    "np.array([hist.history['loss'], hist.history['val_loss']])"
   ]
  },
  {
   "cell_type": "markdown",
   "metadata": {},
   "source": [
    "### 2.3. Keras를 이용한 SGD 시각화\n",
    "\n",
    "KerasSGD의 모델링 결과를 matplotlib를 이용하여 시각화합니다."
   ]
  },
  {
   "cell_type": "code",
   "execution_count": 99,
   "metadata": {},
   "outputs": [],
   "source": [
    "# Import Matplotlib\n",
    "import matplotlib.pyplot as plt\n",
    "%matplotlib inline"
   ]
  },
  {
   "cell_type": "code",
   "execution_count": 109,
   "metadata": {},
   "outputs": [
    {
     "data": {
      "image/png": "[encoded data removed]",
      "text/plain": [
       "<matplotlib.figure.Figure at 0x1c29c4d0eb8>"
      ]
     },
     "metadata": {},
     "output_type": "display_data"
    }
   ],
   "source": [
    "# Data List Initialize\n",
    "loss_list = []\n",
    "step_list = []\n",
    "val_loss_list = []\n",
    "for step in range(0, len(hist.history['loss'])):\n",
    "    loss_list.append(hist.history['loss'][step])\n",
    "    val_loss_list.append(hist.history['val_loss'][step])\n",
    "    step_list.append(step)\n",
    "    \n",
    "# Visualization\n",
    "plt.figure(1)\n",
    "plt.plot(step_list, loss_list, color = 'orange', label = 'loss')\n",
    "plt.plot(step_list, val_loss_list, color = 'red', label = 'val_loss')\n",
    "plt.xlabel('step(epoch)')\n",
    "plt.ylabel('loss')\n",
    "plt.legend()\n",
    "\n",
    "plt.show()"
   ]
  },
  {
   "cell_type": "markdown",
   "metadata": {},
   "source": [
    "## 3. SGD의 구체화\n",
    "\n",
    "2번에서는 sklearn, numpy, keras를 이용해서 SGD를 구현합니다.<br>\n",
    "3번에서는 numpy 레벨에서만 구현합니다."
   ]
  },
  {
   "cell_type": "markdown",
   "metadata": {},
   "source": [
    "### 3.1. Numpy를 이용한 SGD 구체화\n",
    "\n",
    "아래 코드는 선형회귀(Linear Regression)을 SGD로 구현합니다."
   ]
  },
  {
   "cell_type": "code",
   "execution_count": 1,
   "metadata": {},
   "outputs": [
    {
     "name": "stdout",
     "output_type": "stream",
     "text": [
      "Once deleted, variables cannot be recovered. Proceed (y/[n])? y\n"
     ]
    }
   ],
   "source": [
    "%reset"
   ]
  },
  {
   "cell_type": "markdown",
   "metadata": {},
   "source": [
    "일단, Util Class를 정의합니다."
   ]
  },
  {
   "cell_type": "code",
   "execution_count": 309,
   "metadata": {},
   "outputs": [],
   "source": [
    "# Basic Settings\n",
    "import numpy as np\n",
    "import random # np.random\n",
    "\n",
    "class SGDUtil:\n",
    "    \n",
    "    def __init__(self):\n",
    "        pass\n",
    "    \n",
    "    @staticmethod\n",
    "    def mse(w, x, y):\n",
    "        t = (w[0] * x + w[1])\n",
    "        return np.mean((y - t) ** 2) / (2 * len(x))\n",
    "    \n",
    "    @staticmethod\n",
    "    def hill(x, y, t_w0, t_w1, g):\n",
    "        w0 = np.linspace(t_w0 - g, t_w0 + g, 100)\n",
    "        w1 = np.linspace(t_w1 - g, t_w1 + g, 100)\n",
    "        x, y = np.array(x), np.array(y)\n",
    "\n",
    "        J = np.zeros(shape = (len(w0), len(w1)))\n",
    "        for i0 in range(len(w0)):\n",
    "            for i1 in range(len(w1)):\n",
    "                J[i0, i1] = SGDUtil.mse([w0[i0], w1[i1]], x, y)\n",
    "\n",
    "        w0, w1 = np.meshgrid(w0, w1)\n",
    "\n",
    "        return [w0, w1], J\n",
    "    \n",
    "    @staticmethod\n",
    "    def make_regression(X_n):\n",
    "        X = -3 + 13 * np.random.rand(X_n)\n",
    "        Prm_c = [170, 108, 0.2] # parameter\n",
    "        Y = Prm_c[0] - Prm_c[1] * np.exp(-Prm_c[2] * X) \\\n",
    "        + 4 * np.random.randn(X_n)\n",
    "        X, Y = np.array(X), np.array(Y)\n",
    "        return X, Y\n",
    "    \n",
    "    @staticmethod\n",
    "    def shuffle(x, y):\n",
    "        seed = random.random()\n",
    "        random.seed(seed)\n",
    "        random.shuffle(x)\n",
    "        random.seed(seed)\n",
    "        random.shuffle(y)"
   ]
  },
  {
   "cell_type": "markdown",
   "metadata": {},
   "source": [
    "### SGDUtil method description\n",
    "\n",
    "**mse** 함수는 선형식에서의 오차함수를 의미합니다.\n",
    "\n",
    "**hill** 함수는 고정된 x, y에서 기울기 $w_0$와 y절편 $w_1$를 다양한 범위내에서 loss를 계산해 meshgrid 값을 돌려줍니다. 특히, 반환값은 등고선을 그리는 데에 사용합니다.\n",
    "\n",
    "**make_regression** 함수는 교재에서 사용되던 인공 데이터 생성 함수입니다.\n",
    "\n",
    "**shuffle** 함수는 x와 y를 섞는 함수입니다. seed을 동일하게 하여 섞기 전과 섞은 후 대응되는 (x, y)는 여전하게 만듭니다.\n",
    "\n",
    "SGD Class를 정의합니다."
   ]
  },
  {
   "cell_type": "code",
   "execution_count": 310,
   "metadata": {},
   "outputs": [],
   "source": [
    "# Basic Settings\n",
    "import numpy as np\n",
    "#import SGDUtil            # deactivate in jupyter notebook\n",
    "\n",
    "class SGD:\n",
    "    \n",
    "    def __init__(self, x, y):\n",
    "        self.x = (x - min(x)) / (max(x) - min(x))\n",
    "        self.y = (y - min(y)) / (max(y) - min(y))\n",
    "        pass\n",
    "        \n",
    "    def process(self, epoch, w, lr = 0.2):\n",
    "        x, y = self.x, self.y\n",
    "        step, w_list, loss_list, step_list = 1, [], [], []\n",
    "        \n",
    "        while(step <= epoch):\n",
    "            SGDUtil.shuffle(x, y)\n",
    "            loss = 0\n",
    "            dw0, dw1 = 0.0, 0.0\n",
    "            \n",
    "            for i in range(len(x)):\n",
    "                pre_y = w[0] * x[i] + w[1]\n",
    "                loss = ((y[i] - pre_y) ** 2) / 2\n",
    "                \n",
    "                dw0 = (pre_y - y[i]) * x[i]\n",
    "                dw1 = (pre_y - y[i])\n",
    "                \n",
    "                w[0] = w[0] - lr * dw0\n",
    "                w[1] = w[1] - lr * dw1\n",
    "                \n",
    "                w_list.append([w[0], w[1]])\n",
    "                loss_list.append(loss)\n",
    "                step_list.append(step)\n",
    "                \n",
    "                step += 1\n",
    "                \n",
    "                if(step > epoch):\n",
    "                    return {'w': w_list, 'loss': loss_list, 'step': step_list}"
   ]
  },
  {
   "cell_type": "markdown",
   "metadata": {},
   "source": [
    "### SGD 작동 방식\n",
    "\n",
    "Batch Gradient Descent에서는 모든 x에서의 $mse$를 구한 후, 1 step를 증가했다면\n",
    "\n",
    "Stochastic Gradient Descent에서는 각 x에서의 평균을 구한 후, 1 step를 증가했습니다.\n",
    "\n",
    "$w$의 업데이트 방식은 Batch Gradient Descent, Stochastic Gradient Descent, Mini-batch Gradient Descent 전부 동일합니다.\n",
    "\n",
    "$$\n",
    "f = w_0 x + w_1\n",
    "$$\n",
    "\n",
    "$$\n",
    "\\dfrac {\\partial f} {\\partial w_0} = x, \\dfrac {\\partial f} {\\partial w_1} = 1\n",
    "$$\n",
    "\n",
    "\n",
    "$$\n",
    "w_0 = w_0 - learning\\_rate * \\dfrac {\\partial f} {\\partial w_0}\n",
    "$$\n",
    "\n",
    "$$\n",
    "w_1 = w_1 - learning\\_rate * \\dfrac {\\partial f} {\\partial w_1}\n",
    "$$\n"
   ]
  },
  {
   "cell_type": "markdown",
   "metadata": {},
   "source": [
    "## 4. 구체화한 모듈의 단위 테스트\n",
    "\n",
    "SGDUtil 모듈과 SGD 모듈의 단위 테스트를 진행합니다."
   ]
  },
  {
   "cell_type": "markdown",
   "metadata": {},
   "source": [
    "### 4.1. Numpy를 이용한 SGD 단위 테스트\n",
    "\n",
    "단위 테스트에 사용되는 인공 데이터는 직접 제작합니다.\n",
    "\n",
    "또한, 단위 테스트의 결과를 `matplotlib 모듈`을 이용해 시각화합니다."
   ]
  },
  {
   "cell_type": "code",
   "execution_count": 311,
   "metadata": {},
   "outputs": [],
   "source": [
    "import numpy as np\n",
    "import matplotlib.pyplot as plt\n",
    "from mpl_toolkits.mplot3d import Axes3D\n",
    "import random\n",
    "%matplotlib inline"
   ]
  },
  {
   "cell_type": "markdown",
   "metadata": {},
   "source": [
    "SGDUtil Class의 `make_regression(X_n)`를 이용해 인공 데이터를 생성합니다. 일부러 seed를 정하지 않아 항상 값이 다르게 나옵니다."
   ]
  },
  {
   "cell_type": "code",
   "execution_count": 312,
   "metadata": {},
   "outputs": [],
   "source": [
    "# X, Y Data\n",
    "#x = np.array([22, 15, 17, 31, 24, 28, 46, 45, 50])\n",
    "#y = np.array([11, 34, 43, 49, 56, 74, 77, 91, 107])\n",
    "x, y = SGDUtil.make_regression(30)"
   ]
  },
  {
   "cell_type": "code",
   "execution_count": 313,
   "metadata": {},
   "outputs": [
    {
     "data": {
      "image/png": "[encoded data removed]",
      "text/plain": [
       "<matplotlib.figure.Figure at 0x20f956c6550>"
      ]
     },
     "metadata": {},
     "output_type": "display_data"
    }
   ],
   "source": [
    "# X, Y Visualization\n",
    "plt.figure(1)\n",
    "plt.plot(x, y, marker='o', linestyle='None')\n",
    "# linestyle='None' 선 제거\n",
    "plt.show()"
   ]
  },
  {
   "cell_type": "markdown",
   "metadata": {},
   "source": [
    "SGD 모듈 단위 테스트"
   ]
  },
  {
   "cell_type": "code",
   "execution_count": 314,
   "metadata": {},
   "outputs": [],
   "source": [
    "sgd = SGD(x, y)\n",
    "dict_result = sgd.process(epoch = 250, \n",
    "                          w = np.array([30., -40.]), lr = 0.2)"
   ]
  },
  {
   "cell_type": "markdown",
   "metadata": {},
   "source": [
    "**loss_list**는 각 step마다 loss값이 저장되어 있습니다."
   ]
  },
  {
   "cell_type": "code",
   "execution_count": 315,
   "metadata": {},
   "outputs": [],
   "source": [
    "w_list = dict_result['w']\n",
    "loss_list = dict_result['loss']\n",
    "step_list = dict_result['step']"
   ]
  },
  {
   "cell_type": "code",
   "execution_count": 316,
   "metadata": {},
   "outputs": [
    {
     "data": {
      "text/plain": [
       "[<matplotlib.lines.Line2D at 0x20f98ce9588>]"
      ]
     },
     "execution_count": 316,
     "metadata": {},
     "output_type": "execute_result"
    },
    {
     "data": {
      "image/png": "[encoded data removed]",
      "text/plain": [
       "<matplotlib.figure.Figure at 0x20f959c8fd0>"
      ]
     },
     "metadata": {},
     "output_type": "display_data"
    }
   ],
   "source": [
    "plt.figure(1)\n",
    "plt.xlabel('step(epoch)')\n",
    "plt.ylabel('loss')\n",
    "plt.plot(step_list, loss_list, color = 'orange')"
   ]
  },
  {
   "cell_type": "markdown",
   "metadata": {},
   "source": [
    "step-loss 그래프를 보게 되면, 초기 step에서는 loss가 굉장히 높은 것을 알 수 있지만, 갈수록 낮아지고 있습니다.\n",
    "\n",
    "하지만, SGD 특성상, 안정성이 낮기 때문에, 초기에 많이 흔들리는 것을 볼 수 있습니다.\n",
    "\n",
    "안정성이 낮은 이유는 loss update하는 데에 있어서, 변수 1개만 적용하기 때문입니다."
   ]
  },
  {
   "cell_type": "code",
   "execution_count": 320,
   "metadata": {
    "scrolled": false
   },
   "outputs": [
    {
     "name": "stdout",
     "output_type": "stream",
     "text": [
      "t_w0:  2.0200762496279485 t_w1:  -0.433411803967238 t_loss:  0.10517007835962683\n"
     ]
    },
    {
     "data": {
      "text/plain": [
       "Text(0,0.5,'$w_1$')"
      ]
     },
     "execution_count": 320,
     "metadata": {},
     "output_type": "execute_result"
    },
    {
     "data": {
      "image/png": "[encoded data removed]",
      "text/plain": [
       "<matplotlib.figure.Figure at 0x20f98d1c748>"
      ]
     },
     "metadata": {},
     "output_type": "display_data"
    }
   ],
   "source": [
    "# contour로 표시\n",
    "\n",
    "t_w0, t_w1 = w_list[len(w_list) - 1]\n",
    "t_loss = loss_list[len(loss_list) - 1]\n",
    "print(\"t_w0: \", t_w0, \"t_w1: \", t_w1, \"t_loss: \", t_loss)\n",
    "\n",
    "hW, hJ = SGDUtil.hill(x, y, t_w0, t_w1, 50)\n",
    "plt.figure(1)\n",
    "plt.contourf(hW[0], hW[1], hJ, 15, alpha = 0.5, cmap = plt.cm.hot)\n",
    "C = plt.contour(hW[0], hW[1], hJ, 15, alpha = 0.5, colors='black')\n",
    "plt.clabel(C,inline=True)\n",
    "plt.xlabel('$w_0$')\n",
    "plt.ylabel('$w_1$')"
   ]
  },
  {
   "cell_type": "markdown",
   "metadata": {},
   "source": [
    "### 등고선의 해석\n",
    "\n",
    "sgd.process로 작업한 w_list에서 가장 loss가 적은 $w_0, w_1$ 기준으로 $w_i \\pm g$ 즉, $[w_i - g, w_i + g]$ 범위에서 하나하나 MSE를 계산해서 등고선으로 표시한 것입니다.\n",
    "\n",
    "특히나, sgd.process로 작업해서 나온 t_w0, t_w1 를 등고선에서 보면 차이가 크다는 것을 알 수 있습니다.\n",
    "\n",
    "왜냐하면, SGD에서는 loss를 계산할 때, $x_i$ 하나 가지고 계산을 했고, hill에서는 loss를 Batch Gradient Descent의 방식처럼 계산했기 때문입니다."
   ]
  },
  {
   "cell_type": "markdown",
   "metadata": {},
   "source": [
    "### 그렇다면, w_list 가지고 직선을 그릴 수 있을까?\n",
    "\n",
    "가능은 하겠지만, 확률(Probability)이 낮습니다. 확률은 Epoch 값에 따라서 달라지기도 합니다.\n",
    "\n",
    "Batch Gradient Descent보다 Local Optimal를 빠져나갈 수 있는 것은 **사실**이나, 안정성이 낮기 때문에, learning_rate와 epoch값에 따라서 오히려 안 좋은 값을 출력할 수도 있습니다.\n",
    "\n",
    "그렇기 때문에, SGD의 변형으로 Momentum을 통해 더 좋은 값을 유도할 수 있습니다."
   ]
  },
  {
   "cell_type": "markdown",
   "metadata": {},
   "source": [
    "### 그렇다면, 어떻게 SGD의 성능을 보일 것인가?\n",
    "\n",
    "여기서는, SGD의 성능을 로젠브룩(RosenBrock) 함수를 통해 보일 예정입니다.\n",
    "\n",
    "사실상 'SGD의 성능'이라는 표현 보다는 `경사하강법(Gradient Descent)의 성능` 이라 보는 게 맞을 것 같습니다.\n",
    "\n",
    "그 이유에 대해서는 아래 5번 문단에서 설명합니다."
   ]
  },
  {
   "cell_type": "markdown",
   "metadata": {},
   "source": [
    "## 5. Rosenbrock Function을 통한 SGD 성능 검증\n",
    "\n",
    "Rosenbrock Function은 최적화 알고리즘을 테스트하는 용도로 사용하는 함수이다.\n",
    "\n",
    "![](https://upload.wikimedia.org/wikipedia/commons/thumb/3/32/Rosenbrock_function.svg/600px-Rosenbrock_function.svg.png)\n",
    "\n",
    "Rosenbrock Function은 다음과 같다.\n",
    "\n",
    "$$\n",
    "f(x, y) = (a - x) ^ 2 + b(y - x ^ 2) ^ 2\n",
    "$$\n",
    "\n",
    "$f(x, y) = 0$ 을 만족하기 위해서는 $(x = a, y = a ^ 2)$이 일반적이다.\n"
   ]
  },
  {
   "cell_type": "markdown",
   "metadata": {},
   "source": [
    "### Rosenbrock Function을 회귀(Regression) 관점에서 바라본다면?\n",
    "\n",
    "이 로젠브룩 함수를 회귀(Regression) 관점에서 바라본다면 선형회귀랑은 정반대의 결과가 나오게 됩니다.\n",
    "\n",
    "선형회귀(Linear Regression)의 기억을 다시 복기해본다면,\n",
    "\n",
    "**고정적인** X, Y 데이터에서 선형식을 유추했습니다.\n",
    "\n",
    "선형식을 유추했다는 것은 $w_0(기울기), w_1(y절편)$ 를 알아내는 것과 동일합니다.\n",
    "\n",
    "loss function은 MSE(Mean Square Error)을 사용했습니다.\n",
    "\n",
    "하지만, 로젠브룩에서의 회귀(Regression)는 반대입니다.\n",
    "\n",
    "**유동적인** $X, Y$ 데이터가 $f(X, Y) = 0$ 를 만족할 때까지 움직인다고 생각하면 됩니다.\n",
    "\n",
    "---\n",
    "\n",
    "여기서, 선형 회귀에서 X, Y는 1개이상인 반면, 로젠브룩에서의 회귀는 X, Y가 항상 1개씩입니다.\n",
    "\n",
    "4번에서 언급했던 `SGD의 성능`을 Rosenbrock Function에서 검증하게 된다면, `Gradient Descent(경사하강법)의 성능`와 동일하다고 말한 부분이 있습니다.\n",
    "\n",
    "**Batch Gradient Descent**는 데이터 $N$개에서 $N$개를 가지고 Loss를 계산하는 것이 1 step입니다.\n",
    "\n",
    "**Mini-Batch Gradient Descent**는 데이터 $N$개에서 $K$개를 가지고 Loss를 계산하는 것이 1 step입니다. $(K \\le N)$\n",
    "\n",
    "**Stochastic Gradient Descent**는 데이터 $N$개에서 $1$개를 가지고 Loss를 계산하는 것이 1 step입니다.\n",
    "\n",
    "하지만, Rosenbrock Function에서는 데이터가 결국은 1개이므로, $N = 1$이게 됩니다. 즉, **Batch Gradient Descent**, **Mini-batch Gradient Descent**, **Stochastic Gradient Descent**는 데이터 1개에서 항상 1개를 뽑게 됩니다.\n",
    "\n",
    "결국은, 결과를 달리 하고 싶으면, SGD의 변형 알고리즘인 Momentum 등을 사용해야 합니다.\n",
    "\n",
    "일단, SGD도 경사하강법이므로 Rosenbrock Function의 편미분값을 구해야 합니다."
   ]
  },
  {
   "cell_type": "markdown",
   "metadata": {},
   "source": [
    "$$\n",
    "f(x, y) = (a - x) ^ 2 + b(y - x ^ 2) ^ 2\n",
    "$$\n",
    "\n",
    "$$\n",
    "\\dfrac {\\partial \\; f(x, y)} {\\partial x} = (-2)(a - x) + 2b * (-2x) * (y - x^2)\n",
    "$$\n",
    "\n",
    "$$\n",
    "\\dfrac {\\partial \\; f(x, y)} {\\partial x} = (-2)(a - x) + (-4bx) * (y - x^2)\n",
    "$$\n",
    "\n",
    "$$\n",
    "\\dfrac {\\partial \\; f(x, y)} {\\partial y} = 2b * (y - x^2)\n",
    "$$\n",
    "\n",
    "여기서는, $a = 1, b = 2$ 적용하면 $f(1, 1) = 0$가 성립한다."
   ]
  },
  {
   "cell_type": "code",
   "execution_count": 78,
   "metadata": {},
   "outputs": [],
   "source": [
    "import numpy as np\n",
    "import random\n",
    "import matplotlib.pyplot as plt\n",
    "%matplotlib inline"
   ]
  },
  {
   "cell_type": "code",
   "execution_count": 79,
   "metadata": {},
   "outputs": [],
   "source": [
    "def rosenbrock(x, y):\n",
    "    \n",
    "    a, b = np.float(1.0), np.float(2.0)\n",
    "    return (a - x) ** 2 + b * (y - x ** 2) ** 2"
   ]
  },
  {
   "cell_type": "code",
   "execution_count": 145,
   "metadata": {},
   "outputs": [],
   "source": [
    "def d_rosenbrock(x, y):\n",
    "    \n",
    "    a, b = np.float(1.0), np.float(2.0)\n",
    "    dx = (-2) * (a - x) + (-4 * b) * (y - x ** 2) * x\n",
    "    dy = 2 * b * (y - x ** 2)\n",
    "    return dx, dy"
   ]
  },
  {
   "cell_type": "code",
   "execution_count": 147,
   "metadata": {},
   "outputs": [],
   "source": [
    "def rosenbrock_sgd(x, y, epoch, lr = 8e-4, eps = 1.0e-6):\n",
    "    history_x, history_y = [], []\n",
    "    step_list = []\n",
    "    \n",
    "    for step in range(epoch):\n",
    "\n",
    "        mu = 1.4\n",
    "        dx, dy = d_rosenbrock(x, y)\n",
    "        xx = x - lr * mu * dx\n",
    "        yy = y - lr * mu * dy\n",
    "        \n",
    "        history_x.append(xx)\n",
    "        history_y.append(yy)\n",
    "        step_list.append(step)\n",
    "        \n",
    "        x = xx\n",
    "        y = yy\n",
    "        \n",
    "    return history_x, history_y, step_list"
   ]
  },
  {
   "cell_type": "markdown",
   "metadata": {},
   "source": [
    "단위 테스트를 진행해봅니다."
   ]
  },
  {
   "cell_type": "code",
   "execution_count": 148,
   "metadata": {
    "scrolled": true
   },
   "outputs": [],
   "source": [
    "x_list, y_list, step_list = \\\n",
    "rosenbrock_sgd(x = 5, y = -20, \\\n",
    "                epoch = 10000)"
   ]
  },
  {
   "cell_type": "code",
   "execution_count": 149,
   "metadata": {},
   "outputs": [
    {
     "data": {
      "text/plain": [
       "[<matplotlib.lines.Line2D at 0x2944d165be0>]"
      ]
     },
     "execution_count": 149,
     "metadata": {},
     "output_type": "execute_result"
    },
    {
     "data": {
      "image/png": "[encoded data removed]",
      "text/plain": [
       "<matplotlib.figure.Figure at 0x2944d0a5668>"
      ]
     },
     "metadata": {},
     "output_type": "display_data"
    }
   ],
   "source": [
    "# Visualization\n",
    "\n",
    "xx = np.linspace(min(x_list) * 1.3, max(x_list) * 1.3, 800)\n",
    "yy = np.linspace(min(y_list) * 1.3, max(y_list) * 1.3, 600)\n",
    "X, Y = np.meshgrid(xx, yy)\n",
    "Z = rosenbrock(x = X, y = Y)\n",
    "\n",
    "levels=np.logspace(-1, 3, 10)\n",
    "plt.contourf(X, Y, Z, alpha=0.2, levels=levels)\n",
    "plt.contour(X, Y, Z, colors=\"gray\",\n",
    "            levels=[0.4, 3, 15, 50, 150, 500, 1500, 5000])\n",
    "plt.plot(1, 1, 'ro', markersize=10)\n",
    "plt.xlabel('$x$')\n",
    "plt.ylabel('$y$')\n",
    "\n",
    "# =============================\n",
    "\n",
    "#for i in range(len(x_list)):\n",
    "    #plt.plot(x_list[i], y_list[i], 'bo')\n",
    "    \n",
    "plt.plot(x_list, y_list, marker='o', markersize = 1)"
   ]
  },
  {
   "cell_type": "markdown",
   "metadata": {},
   "source": [
    "RosenBrock Function에서 SGD 학습은 결국, Gradient Descent와 같아 속도는 여전히 느리고, Epoch가 10000번 근처에 도달하자 (1, 1)에 도달한 것을 알 수 있습니다."
   ]
  },
  {
   "cell_type": "markdown",
   "metadata": {},
   "source": [
    "### 소감\n",
    "\n",
    "이번 최적화 알고리즘 구체화 프로젝트는 다양한 Gradient Descent Optimization에 대해서 개념만 아는 것이 아닌 직접 구현까지 하면서 왜 그렇게 구현해야 하는지 부터 시작해서 시각적으로 결과를 직접 보니 시간은 오래 걸리지만 이해가 쉬웠습니다."
   ]
  }
 ],
 "metadata": {
  "kernelspec": {
   "display_name": "Python 3",
   "language": "python",
   "name": "python3"
  },
  "language_info": {
   "codemirror_mode": {
    "name": "ipython",
    "version": 3
   },
   "file_extension": ".py",
   "mimetype": "text/x-python",
   "name": "python",
   "nbconvert_exporter": "python",
   "pygments_lexer": "ipython3",
   "version": "3.6.4"
  }
 },
 "nbformat": 4,
 "nbformat_minor": 2
}
